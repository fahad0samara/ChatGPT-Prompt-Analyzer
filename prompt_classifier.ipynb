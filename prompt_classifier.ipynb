{
 "cells": [
  {
   "cell_type": "markdown",
   "metadata": {},
   "source": [
    "# ChatGPT Prompt Classifier\n",
    "\n",
    "This notebook demonstrates the process of training and evaluating a classifier for ChatGPT prompts. We'll analyze the data, extract features, and train a model to categorize prompts into different roles."
   ]
  },
  {
   "cell_type": "code",
   "execution_count": null,
   "metadata": {},
   "outputs": [],
   "source": [
    "# Import required libraries\n",
    "import pandas as pd\n",
    "import numpy as np\n",
    "import matplotlib.pyplot as plt\n",
    "import seaborn as sns\n",
    "from sklearn.model_selection import train_test_split, cross_val_score\n",
    "from sklearn.preprocessing import StandardScaler, LabelEncoder\n",
    "from sklearn.feature_extraction.text import TfidfVectorizer\n",
    "from sklearn.ensemble import RandomForestClassifier\n",
    "from sklearn.metrics import classification_report, confusion_matrix\n",
    "import joblib\n",
    "import re\n",
    "from collections import Counter\n",
    "\n",
    "# Set style for plots\n",
    "plt.style.use('seaborn')\n",
    "sns.set_palette('husl')"
   ]
  },
  {
   "cell_type": "markdown",
   "metadata": {},
   "source": [
    "## 1. Data Loading and Preprocessing"
   ]
  },
  {
   "cell_type": "code",
   "execution_count": null,
   "metadata": {},
   "outputs": [],
   "source": [
    "# Load the data\n",
    "df = pd.read_csv('ChatGPT Prompts.csv')\n",
    "print(\"Dataset shape:\", df.shape)\n",
    "df.head()"
   ]
  },
  {
   "cell_type": "code",
   "execution_count": null,
   "metadata": {},
   "outputs": [],
   "source": [
    "# Clean text function\n",
    "def clean_text(text):\n",
    "    text = re.sub(r'[^\\w\\s]', ' ', str(text))\n",
    "    text = re.sub(r'\\s+', ' ', text)\n",
    "    return text.strip().lower()\n",
    "\n",
    "# Clean the text data\n",
    "df['clean_prompt'] = df['prompt'].apply(clean_text)\n",
    "df['clean_act'] = df['act'].apply(clean_text)"
   ]
  },
  {
   "cell_type": "markdown",
   "metadata": {},
   "source": [
    "## 2. Role Categorization"
   ]
  },
  {
   "cell_type": "code",
   "execution_count": null,
   "metadata": {},
   "outputs": [],
   "source": [
    "def categorize_role(role):\n",
    "    \"\"\"Categorize roles into main categories\"\"\"\n",
    "    role = role.lower()\n",
    "    \n",
    "    categories = {\n",
    "        'technical': [\n",
    "            'developer', 'programmer', 'engineer', 'coder', 'terminal', 'tech', 'sql', 'database',\n",
    "            'python', 'javascript', 'web', 'software', 'api', 'system', 'computer', 'it', 'cyber',\n",
    "            'security', 'infrastructure'\n",
    "        ],\n",
    "        'creative': [\n",
    "            'writer', 'artist', 'designer', 'composer', 'creator', 'generator', 'storyteller',\n",
    "            'poet', 'screenwriter', 'novelist', 'content', 'creative', 'music', 'visual'\n",
    "        ],\n",
    "        'educational': [\n",
    "            'teacher', 'tutor', 'instructor', 'coach', 'trainer', 'educator', 'mentor',\n",
    "            'guide', 'advisor', 'counselor', 'learning', 'teaching'\n",
    "        ],\n",
    "        'professional': [\n",
    "            'analyst', 'researcher', 'scientist', 'consultant', 'manager', 'executive',\n",
    "            'business', 'marketing', 'sales', 'financial', 'accountant', 'entrepreneur',\n",
    "            'strategist', 'data', 'metrics', 'performance'\n",
    "        ],\n",
    "        'service': [\n",
    "            'assistant', 'helper', 'support', 'service', 'translator', 'interpreter',\n",
    "            'editor', 'proofreader', 'coordinator', 'planner', 'organizer'\n",
    "        ]\n",
    "    }\n",
    "    \n",
    "    for category, keywords in categories.items():\n",
    "        if any(keyword in role for keyword in keywords):\n",
    "            return category\n",
    "    \n",
    "    return 'other'\n",
    "\n",
    "# Categorize roles\n",
    "df['role_category'] = df['clean_act'].apply(categorize_role)\n",
    "\n",
    "# Plot category distribution\n",
    "plt.figure(figsize=(12, 6))\n",
    "category_counts = df['role_category'].value_counts()\n",
    "sns.barplot(x=category_counts.index, y=category_counts.values)\n",
    "plt.title('Distribution of Role Categories')\n",
    "plt.xlabel('Category')\n",
    "plt.ylabel('Count')\n",
    "plt.xticks(rotation=45)\n",
    "plt.tight_layout()\n",
    "plt.show()\n",
    "\n",
    "print(\"\\nRole category distribution:\")\n",
    "print(category_counts)"
   ]
  },
  {
   "cell_type": "markdown",
   "metadata": {},
   "source": [
    "## 3. Feature Extraction"
   ]
  },
  {
   "cell_type": "code",
   "execution_count": null,
   "metadata": {},
   "outputs": [],
   "source": [
    "def extract_features(text):\n",
    "    \"\"\"Extract features from text\"\"\"\n",
    "    features = {\n",
    "        'word_count': len(text.split()),\n",
    "        'avg_word_length': np.mean([len(word) for word in text.split()]),\n",
    "        'analysis_score': text.count('analyze') + text.count('evaluate') + text.count('assess'),\n",
    "        'teaching_score': text.count('teach') + text.count('explain') + text.count('guide'),\n",
    "        'creativity_score': text.count('create') + text.count('design') + text.count('generate')\n",
    "    }\n",
    "    return features\n",
    "\n",
    "# Extract features\n",
    "print(\"Extracting features...\")\n",
    "features_list = [extract_features(text) for text in df['clean_prompt']]\n",
    "features_df = pd.DataFrame(features_list)\n",
    "\n",
    "# Create TF-IDF features\n",
    "print(\"\\nCreating TF-IDF features...\")\n",
    "tfidf = TfidfVectorizer(max_features=100, stop_words='english')\n",
    "prompt_tfidf = tfidf.fit_transform(df['clean_prompt'])\n",
    "tfidf_df = pd.DataFrame(prompt_tfidf.toarray(), columns=tfidf.get_feature_names_out())\n",
    "\n",
    "# Combine features\n",
    "X = pd.concat([features_df, tfidf_df], axis=1)\n",
    "X = X.fillna(0).values\n",
    "\n",
    "# Prepare target variable\n",
    "le = LabelEncoder()\n",
    "y = le.fit_transform(df['role_category'])\n",
    "\n",
    "# Scale features\n",
    "scaler = StandardScaler()\n",
    "X_scaled = scaler.fit_transform(X)"
   ]
  },
  {
   "cell_type": "markdown",
   "metadata": {},
   "source": [
    "## 4. Model Training and Evaluation"
   ]
  },
  {
   "cell_type": "code",
   "execution_count": null,
   "metadata": {},
   "outputs": [],
   "source": [
    "# Create and train the model\n",
    "model = RandomForestClassifier(\n",
    "    n_estimators=200,\n",
    "    max_depth=10,\n",
    "    min_samples_split=5,\n",
    "    min_samples_leaf=2,\n",
    "    class_weight='balanced',\n",
    "    random_state=42\n",
    ")\n",
    "\n",
    "# Perform cross-validation\n",
    "cv_scores = cross_val_score(model, X_scaled, y, cv=3)\n",
    "print(\"Cross-validation scores:\", cv_scores)\n",
    "print(\"Average CV score:\", cv_scores.mean())\n",
    "\n",
    "# Train final model\n",
    "X_train, X_test, y_train, y_test = train_test_split(X_scaled, y, test_size=0.2, random_state=42, stratify=y)\n",
    "model.fit(X_train, y_train)\n",
    "\n",
    "# Make predictions\n",
    "y_pred = model.predict(X_test)\n",
    "\n",
    "# Print classification report\n",
    "print(\"\\nClassification Report:\")\n",
    "print(classification_report(y_test, y_pred, target_names=le.classes_))"
   ]
  },
  {
   "cell_type": "markdown",
   "metadata": {},
   "source": [
    "## 5. Visualization and Analysis"
   ]
  },
  {
   "cell_type": "code",
   "execution_count": null,
   "metadata": {},
   "outputs": [],
   "source": [
    "# Plot confusion matrix\n",
    "plt.figure(figsize=(10, 8))\n",
    "cm = confusion_matrix(y_test, y_pred)\n",
    "sns.heatmap(cm, annot=True, fmt='d', cmap='Blues',\n",
    "            xticklabels=le.classes_,\n",
    "            yticklabels=le.classes_)\n",
    "plt.title('Confusion Matrix')\n",
    "plt.ylabel('True Category')\n",
    "plt.xlabel('Predicted Category')\n",
    "plt.xticks(rotation=45)\n",
    "plt.tight_layout()\n",
    "plt.show()\n",
    "\n",
    "# Plot feature importance\n",
    "feature_names = list(features_df.columns) + list(tfidf_df.columns)\n",
    "importances = pd.Series(model.feature_importances_, index=feature_names)\n",
    "plt.figure(figsize=(12, 6))\n",
    "importances.nlargest(20).plot(kind='bar')\n",
    "plt.title('Top 20 Most Important Features')\n",
    "plt.xlabel('Features')\n",
    "plt.ylabel('Importance')\n",
    "plt.xticks(rotation=45, ha='right')\n",
    "plt.tight_layout()\n",
    "plt.show()"
   ]
  },
  {
   "cell_type": "markdown",
   "metadata": {},
   "source": [
    "## 6. Save Model and Preprocessors"
   ]
  },
  {
   "cell_type": "code",
   "execution_count": null,
   "metadata": {},
   "outputs": [],
   "source": [
    "# Save model and preprocessors\n",
    "joblib.dump(model, 'models/prompt_classifier.joblib')\n",
    "joblib.dump(tfidf, 'models/tfidf_vectorizer.joblib')\n",
    "joblib.dump(scaler, 'models/feature_scaler.joblib')\n",
    "joblib.dump(le, 'models/label_encoder.joblib')\n",
    "\n",
    "print(\"Model and preprocessors saved successfully!\")"
   ]
  },
  {
   "cell_type": "markdown",
   "metadata": {},
   "source": [
    "## 7. Example Predictions"
   ]
  },
  {
   "cell_type": "code",
   "execution_count": null,
   "metadata": {},
   "outputs": [],
   "source": [
    "def predict_category(prompt):\n",
    "    \"\"\"Make predictions for new prompts\"\"\"\n",
    "    # Clean text\n",
    "    clean_prompt = clean_text(prompt)\n",
    "    \n",
    "    # Extract features\n",
    "    features = extract_features(clean_prompt)\n",
    "    features_df = pd.DataFrame([features])\n",
    "    \n",
    "    # Create TF-IDF features\n",
    "    prompt_tfidf = tfidf.transform([clean_prompt])\n",
    "    tfidf_df = pd.DataFrame(prompt_tfidf.toarray(), columns=tfidf.get_feature_names_out())\n",
    "    \n",
    "    # Combine features\n",
    "    X = pd.concat([features_df, tfidf_df], axis=1)\n",
    "    X = X.fillna(0).values\n",
    "    \n",
    "    # Scale features\n",
    "    X_scaled = scaler.transform(X)\n",
    "    \n",
    "    # Make prediction\n",
    "    pred = model.predict(X_scaled)\n",
    "    prob = model.predict_proba(X_scaled)\n",
    "    \n",
    "    return le.inverse_transform(pred)[0], prob[0][pred[0]]\n",
    "\n",
    "# Test examples\n",
    "test_prompts = [\n",
    "    \"Act as a Python developer and help me write clean code\",\n",
    "    \"Be a creative writer and help me write a story\",\n",
    "    \"Act as a math teacher and explain calculus\",\n",
    "    \"Be a business consultant and analyze my startup idea\",\n",
    "    \"Act as a helpful assistant and organize my schedule\"\n",
    "]\n",
    "\n",
    "print(\"Example Predictions:\")\n",
    "for prompt in test_prompts:\n",
    "    category, confidence = predict_category(prompt)\n",
    "    print(f\"\\nPrompt: {prompt}\")\n",
    "    print(f\"Predicted Category: {category}\")\n",
    "    print(f\"Confidence: {confidence:.2f}\")"
   ]
  }
 ],
 "metadata": {
  "kernelspec": {
   "display_name": "Python 3 (ipykernel)",
   "language": "python",
   "name": "python3"
  },
  "language_info": {
   "codemirror_mode": {
    "name": "ipython",
    "version": 3
   },
   "file_extension": ".py",
   "mimetype": "text/x-python",
   "name": "python",
   "nbconvert_exporter": "python",
   "pygments_lexer": "ipython3",
   "version": "3.11.7"
  }
 },
 "nbformat": 4,
 "nbformat_minor": 4
}
